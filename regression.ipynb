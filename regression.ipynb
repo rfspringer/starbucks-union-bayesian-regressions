{
 "cells": [
  {
   "cell_type": "code",
   "execution_count": 159,
   "id": "316d6980-31c6-41a9-bdf1-7a3d3283b8c9",
   "metadata": {},
   "outputs": [],
   "source": [
    "import pandas as pd\n",
    "from sklearn.model_selection import train_test_split\n",
    "from sklearn.preprocessing import StandardScaler\n",
    "from sklearn.metrics import log_loss\n",
    "from sklearn.utils import shuffle\n",
    "import pymc3 as pm\n",
    "import numpy as np\n",
    "\n",
    "import logging\n",
    "import os\n",
    "\n",
    "import torch\n",
    "import seaborn as sns\n",
    "import matplotlib.pyplot as plt\n",
    "\n",
    "import pyro\n",
    "import pyro.distributions as dist"
   ]
  },
  {
   "cell_type": "code",
   "execution_count": 160,
   "id": "b8959433-b836-4517-a4b0-001d896fe3dc",
   "metadata": {
    "tags": []
   },
   "outputs": [],
   "source": [
    "# load data\n",
    "data = pd.read_csv('processed_sbwu_data.csv')\n",
    "X = data.drop('success', axis=1)\n",
    "y = data['success']"
   ]
  },
  {
   "cell_type": "code",
   "execution_count": 161,
   "id": "5f78c8ff-3217-45cd-b6e6-8d0e2a4f076e",
   "metadata": {
    "tags": []
   },
   "outputs": [],
   "source": [
    "# # load data\n",
    "# data = pd.read_csv('diabetes.csv')\n",
    "# X = data.drop('Outcome', axis=1)\n",
    "# y = data['Outcome']"
   ]
  },
  {
   "cell_type": "code",
   "execution_count": 162,
   "id": "3655abe6-56e1-4934-882c-682bb7d2795b",
   "metadata": {
    "tags": []
   },
   "outputs": [],
   "source": [
    "# make test/ train split\n",
    "X_train, X_test, y_train, y_test = train_test_split(X, y, test_size=0.3)\n",
    "\n",
    "#scale and re-assign labels\n",
    "scaler = StandardScaler()\n",
    "X_train_scaled = scaler.fit_transform(X_train)\n",
    "X_test_scaled = scaler.transform(X_test)"
   ]
  },
  {
   "cell_type": "code",
   "execution_count": 163,
   "id": "d1dd2b20-1314-4aed-bab3-7e685f2e7dfd",
   "metadata": {},
   "outputs": [],
   "source": [
    "# add ones col for bias\n",
    "ones_column_train = np.full(fill_value= 1, shape=(X_train_scaled.shape[0], 1))\n",
    "ones_column_test = np.full(fill_value= 1, shape=(X_test_scaled.shape[0], 1))\n",
    "X_train_scaled = np.append(ones_column_train, X_train_scaled, 1)\n",
    "X_test_scaled = np.append(ones_column_test, X_test_scaled, 1)\n",
    "\n",
    "#convert all to numpy array\n",
    "X_train_scaled = np.asarray(X_train_scaled)\n",
    "X_test_scaled = np.asarray(X_test_scaled)\n",
    "y_train = np.asarray(y_train)\n",
    "y_test = np.asarray(y_test)"
   ]
  },
  {
   "cell_type": "code",
   "execution_count": 219,
   "id": "80de8761-faa3-4d31-9135-44eec60d070a",
   "metadata": {},
   "outputs": [],
   "source": [
    "prior_var = 10**-1\n",
    "# prior_var = 2\n",
    "\n",
    "def sigmoid(x):\n",
    "    return 1/(1 + np.exp(-(x)))\n",
    "\n",
    "def predict(x, beta):\n",
    "    return sigmoid(np.dot(x, beta))\n",
    "\n",
    "\n",
    "# should all by numpy arrays\n",
    "def gradient(x, y, beta, n):\n",
    "    batch_size = x.shape[0]\n",
    "    predicted_expectations = predict(x, beta)\n",
    "    residuals = np.zeros_like(beta)\n",
    "    \n",
    "    grad = -beta/np.sqrt(prior_var) + n/batch_size * np.dot(x.T, (y - predict(x, beta)))\n",
    "    return grad\n",
    "\n",
    "def cross_entropy(x, y, beta):\n",
    "    return np.mean(y * np.log(predict(x, beta)) + (1 - y) * np.log(predict(x, -beta)))\n",
    "\n",
    "def objective(x, y, beta):\n",
    "    return -1/(2 * prior_var) * np.sum(beta **2) + -log_loss(y, predict(x, beta), normalize=False)\n",
    "\n",
    "def accuracy(x, y, beta):\n",
    "    predictions = predict(x, beta)\n",
    "    predictions[predictions >= 0.5] = 1\n",
    "    predictions[predictions < 0.5] = 0\n",
    "    return 1 - np.mean(np.abs(y - predictions))\n",
    "    "
   ]
  },
  {
   "cell_type": "code",
   "execution_count": 220,
   "id": "6f1d6e3a-3353-4ab6-93b7-c565218387c4",
   "metadata": {},
   "outputs": [],
   "source": [
    "def sk_objective(x, y, beta):\n",
    "    pred = predict(x, beta)\n",
    "    return -log_loss(y, pred)"
   ]
  },
  {
   "cell_type": "code",
   "execution_count": 221,
   "id": "116de38a-0642-49c8-aeb8-14801c2985c4",
   "metadata": {},
   "outputs": [],
   "source": [
    "def sgd(gradient, x, y, start, learn_rate=0.0001, batch_size=48, n_iter=300, tolerance=1e-06, dtype=\"float64\", seed=None):\n",
    "    rng = np.random.default_rng(seed=seed)\n",
    "    num_obs = x.shape[0]\n",
    "    vector = start\n",
    "    \n",
    "    for i in range(n_iter):\n",
    "        x, y = shuffle(x, y, random_state=seed)\n",
    "        \n",
    "        for start_index in range(0, num_obs, batch_size):\n",
    "            stop = start_index + batch_size\n",
    "            x_batch, y_batch = x[start_index:stop], y[start_index:stop]\n",
    "            grad = np.array(gradient(x_batch, y_batch, vector, num_obs))\n",
    "            diff = learn_rate * grad\n",
    "                            \n",
    "            if np.all(np.abs(diff) <= tolerance):\n",
    "                break\n",
    "              \n",
    "            vector += diff\n",
    "        accuracy_train.append(accuracy(x, y, vector))\n",
    "        accuracy_test.append(accuracy(X_test_scaled, y_test, vector))\n",
    "        objective_train.append(objective(x, y, vector))\n",
    "        objective_test.append(objective(X_test_scaled, y_test, vector))\n",
    "    return vector"
   ]
  },
  {
   "cell_type": "code",
   "execution_count": 222,
   "id": "578b4859-5540-407f-8d12-9360d2b2a2d1",
   "metadata": {},
   "outputs": [],
   "source": [
    "objective_train = []\n",
    "objective_test = []\n",
    "accuracy_train = []\n",
    "accuracy_test = []\n",
    "sk_obj = []\n",
    "start = np.zeros(shape=(len(X_train_scaled[0]),))\n",
    "beta_hat = sgd(gradient, X_train_scaled, y_train, start) "
   ]
  },
  {
   "cell_type": "code",
   "execution_count": 223,
   "id": "f0cbefa8-abea-44fb-bd47-de18929943b5",
   "metadata": {},
   "outputs": [
    {
     "data": {
      "text/plain": [
       "array([ 1.39658736,  0.12801778, -0.01294084, -0.16454716,  0.32663284,\n",
       "        0.24198858,  0.36237762,  0.3493581 , -0.34913767,  0.13255249,\n",
       "       -0.13206718, -0.08261917,  0.05202217, -0.01604242, -0.29928619,\n",
       "       -0.07331215])"
      ]
     },
     "execution_count": 223,
     "metadata": {},
     "output_type": "execute_result"
    },
    {
     "data": {
      "image/png": "[encoded data removed]",
      "text/plain": [
       "<Figure size 432x288 with 1 Axes>"
      ]
     },
     "metadata": {
      "needs_background": "light"
     },
     "output_type": "display_data"
    }
   ],
   "source": [
    "plt.plot(objective_train)\n",
    "plt.plot(objective_test)\n",
    "# plt.ylim(-0.8, -0.4)\n",
    "# plt.plot(accuracy_train)\n",
    "# plt.plot(accuracy_test)\n",
    "# plt.plot(sk_obj)\n",
    "# plt.show()\n",
    "# objective_train\n",
    "beta_hat"
   ]
  },
  {
   "cell_type": "code",
   "execution_count": 155,
   "id": "3b4fe0f0-6268-4e92-8f12-03ed04695226",
   "metadata": {},
   "outputs": [
    {
     "data": {
      "text/plain": [
       "array([ 1.19456420e+00,  1.29139003e-01, -1.14438220e-01, -1.42356419e-01,\n",
       "        4.23800668e-02,  3.60244164e-01,  4.81733072e-04,  2.34670540e-01,\n",
       "       -7.90442843e-02, -1.41069803e-01, -8.80601991e-02,  1.66180159e-01,\n",
       "       -6.16011739e-02, -7.13893796e-02,  6.63360662e-02,  4.02850916e-01,\n",
       "       -1.47662915e-02,  1.35355265e-01, -2.69109924e-01, -1.96102216e-01,\n",
       "        1.11119245e-02, -7.18447110e-02, -3.61345663e-01, -2.86951000e-02])"
      ]
     },
     "execution_count": 155,
     "metadata": {},
     "output_type": "execute_result"
    },
    {
     "data": {
      "image/png": "[encoded data removed]",
      "text/plain": [
       "<Figure size 432x288 with 1 Axes>"
      ]
     },
     "metadata": {
      "needs_background": "light"
     },
     "output_type": "display_data"
    }
   ],
   "source": [
    "plt.plot(objective_train)\n",
    "plt.plot(objective_test)\n",
    "plt.ylim(-0.8, -0.4)\n",
    "# plt.plot(accuracy_train)\n",
    "# plt.plot(accuracy_test)\n",
    "# plt.plot(sk_obj)\n",
    "# plt.show()\n",
    "# objective_train\n",
    "beta_hat"
   ]
  },
  {
   "cell_type": "code",
   "execution_count": 138,
   "id": "105d9fb4-19c9-40fd-8124-d6d923237676",
   "metadata": {},
   "outputs": [
    {
     "data": {
      "text/plain": [
       "array([ 1.19648937,  0.13158185, -0.12196881, -0.1489246 ,  0.04289036,\n",
       "        0.35157157,  0.00333448,  0.2375295 , -0.06418597, -0.15543928,\n",
       "       -0.09517882,  0.16418011, -0.06602835, -0.07162752,  0.06825453,\n",
       "        0.40507179, -0.02045705,  0.1284871 , -0.2585246 , -0.19288935,\n",
       "        0.00944169, -0.07314378, -0.35900929, -0.03820689])"
      ]
     },
     "execution_count": 138,
     "metadata": {},
     "output_type": "execute_result"
    },
    {
     "data": {
      "image/png": "[encoded data removed]",
      "text/plain": [
       "<Figure size 432x288 with 1 Axes>"
      ]
     },
     "metadata": {
      "needs_background": "light"
     },
     "output_type": "display_data"
    }
   ],
   "source": [
    "plt.plot(objective_train)\n",
    "plt.plot(objective_test)\n",
    "plt.ylim(-0.8, -0.4)\n",
    "# plt.plot(accuracy_train)\n",
    "# plt.plot(accuracy_test)\n",
    "# plt.plot(sk_obj)\n",
    "# plt.show()\n",
    "# objective_train\n",
    "beta_hat"
   ]
  },
  {
   "cell_type": "code",
   "execution_count": 72,
   "id": "73e99b2d-8a07-49ab-8c8b-6398237fc4db",
   "metadata": {},
   "outputs": [
    {
     "data": {
      "text/plain": [
       "-0.43733604890112915"
      ]
     },
     "execution_count": 72,
     "metadata": {},
     "output_type": "execute_result"
    }
   ],
   "source": [
    "cross_entropy(X_train_scaled, y_train, beta_hat)"
   ]
  },
  {
   "cell_type": "code",
   "execution_count": 58,
   "id": "8614fce4-be61-429c-9eb6-fd9391a8bac5",
   "metadata": {},
   "outputs": [
    {
     "data": {
      "text/plain": [
       "-0.4965343829304537"
      ]
     },
     "execution_count": 58,
     "metadata": {},
     "output_type": "execute_result"
    }
   ],
   "source": [
    "cross_entropy(X_test_scaled, y_test, beta_hat)"
   ]
  },
  {
   "cell_type": "code",
   "execution_count": 51,
   "id": "0e166569-9d62-49c5-bffe-dd5344d832b5",
   "metadata": {},
   "outputs": [
    {
     "data": {
      "text/plain": [
       "-0.6931471805599453"
      ]
     },
     "execution_count": 51,
     "metadata": {},
     "output_type": "execute_result"
    }
   ],
   "source": [
    "cross_entropy(X_test_scaled, y_test, np.zeros(shape=(len(X_test_scaled[0]),)))"
   ]
  },
  {
   "cell_type": "code",
   "execution_count": 24,
   "id": "5f22c678-8625-4f31-b385-3fc574336cd6",
   "metadata": {},
   "outputs": [
    {
     "data": {
      "text/plain": [
       "array([ 1.4577203 ,  0.78913451, -0.12769083, -0.07682875,  0.24923289,\n",
       "        1.01341954,  0.17124172,  0.5300878 , -0.66820067,  0.11938191,\n",
       "       -0.60398239, -0.2790398 , -0.0599156 , -0.17984707, -0.51733803,\n",
       "       -0.03005206])"
      ]
     },
     "execution_count": 24,
     "metadata": {},
     "output_type": "execute_result"
    }
   ],
   "source": [
    "predict(X_train_scaled, beta_hat)\n",
    "beta_hat"
   ]
  },
  {
   "cell_type": "code",
   "execution_count": 120,
   "id": "02a09461-d9b5-4e7f-888a-bc86f75d4ca7",
   "metadata": {},
   "outputs": [
    {
     "data": {
      "text/plain": [
       "array([[ 1.        , -0.02121564],\n",
       "       [-0.02121564,  1.        ]])"
      ]
     },
     "execution_count": 120,
     "metadata": {},
     "output_type": "execute_result"
    }
   ],
   "source": [
    "rtw_success = data[['RTW','success']] \n",
    "np.count_nonzero(rtw_success == [1, 1])\n",
    "# len(rtw_success)\n",
    "\n",
    "# zz = 0\n",
    "# zo = 0\n",
    "# oz = 0\n",
    "# oo = 0\n",
    "\n",
    "# for row in rtw_success:\n",
    "#     if row == [0, 0]:\n",
    "#         zz += 1\n",
    "#     elif row == [0, 1]:\n",
    "#         zo += 1\n",
    "#     elif row == [1, 0]:\n",
    "#         oz += 1\n",
    "#     else:\n",
    "#         oo += 1\n",
    "# print(zz, zo, oz, oo)\n",
    "# print(rtw_success)\n",
    "\n",
    "\n",
    "#plt.scatter(data['RTW'], data['success'])\n",
    "\n",
    "#412 0, 0\n",
    "# 213 1, 0\n",
    "# 689 0, 1\n",
    "# 490 1, 1\n",
    "\n",
    "np.corrcoef(data['RTW'], data['success'])"
   ]
  },
  {
   "cell_type": "code",
   "execution_count": 69,
   "id": "3f0958ba-6f18-401f-a6fa-c702fb819325",
   "metadata": {},
   "outputs": [
    {
     "data": {
      "text/plain": [
       "array([1., 1., 1., 0., 1., 1., 1., 1., 1., 1., 1., 1., 1., 1., 1., 1., 1.,\n",
       "       1., 1., 1., 1., 1., 1., 1., 1., 1., 1., 1., 1., 1., 1., 1., 1., 1.,\n",
       "       0., 1., 1., 1., 1., 1., 1., 1., 1., 1., 1., 1., 1., 1., 1., 1., 1.,\n",
       "       1., 1., 1., 1., 1., 1., 1., 1., 1., 1., 1., 1., 1., 1., 1., 1., 1.,\n",
       "       1., 1., 1., 1., 1., 1., 1., 1., 1., 1., 1., 1., 1., 1., 1., 1., 1.,\n",
       "       1., 1., 1., 1., 1., 1., 1., 1., 1., 1., 1., 1., 1., 1., 1., 1., 0.,\n",
       "       1., 1., 1., 1., 1., 1., 1., 1., 1., 1., 1., 1., 1., 1., 1., 1., 1.,\n",
       "       1., 1., 1., 1., 1., 1., 1., 1., 1., 1., 1., 0., 0., 1., 1., 1., 1.,\n",
       "       1., 1., 1., 1., 1., 1., 1., 1., 1., 1., 1., 1., 1., 1., 1., 1., 1.,\n",
       "       1., 1., 1., 1., 1., 1., 0., 0., 1., 1., 1., 1., 1., 1., 1., 1., 1.,\n",
       "       1., 1., 1., 1., 1., 1., 1., 1., 1., 1., 1., 1., 1., 1., 1., 1., 1.,\n",
       "       1., 1., 1., 1., 1., 1., 1., 1., 1., 1., 1., 1., 1., 1., 1., 1., 1.,\n",
       "       1., 1., 1., 1., 1., 1., 1., 0., 1., 1., 0., 0., 1., 1., 1., 1., 1.,\n",
       "       1., 1., 1., 1., 1., 1., 1., 1., 1., 0., 1., 1., 1., 1., 1., 1., 1.,\n",
       "       1., 1., 1., 1., 1., 0., 1., 1., 1., 1., 1., 1., 1., 1., 1., 1., 1.,\n",
       "       1., 1., 1., 1., 1., 1., 0., 1., 1., 1., 1., 0., 0., 1., 1., 1., 1.,\n",
       "       1., 1., 1., 1., 1., 1., 1., 1., 1., 1., 1., 1., 1., 1., 1., 1., 1.,\n",
       "       0., 1., 1., 1., 1., 1., 1., 1., 1., 0., 1., 1., 1., 0., 1., 1., 1.,\n",
       "       1., 1., 1., 1., 1., 1., 1., 1., 1.])"
      ]
     },
     "execution_count": 69,
     "metadata": {},
     "output_type": "execute_result"
    }
   ],
   "source": [
    "p = predict(X_train_scaled, beta_hat)\n",
    "\n",
    "p[p > 0.5] = 1\n",
    "p[p <= 0.5] = 0\n",
    "\n",
    "p"
   ]
  },
  {
   "cell_type": "code",
   "execution_count": 70,
   "id": "bb15b6be-46cb-49fb-87b9-0934d75f4675",
   "metadata": {},
   "outputs": [
    {
     "data": {
      "text/plain": [
       "0.19047619047619047"
      ]
     },
     "execution_count": 70,
     "metadata": {},
     "output_type": "execute_result"
    }
   ],
   "source": [
    "np.mean(np.abs(y_train - p))"
   ]
  },
  {
   "cell_type": "code",
   "execution_count": 71,
   "id": "dd39988f-76b4-45cf-bec7-5c4f126ffd4e",
   "metadata": {},
   "outputs": [
    {
     "data": {
      "text/plain": [
       "array([ 1.47208446,  0.79298884, -0.14247025, -0.06347246,  0.26644026,\n",
       "        1.03382142,  0.1706488 ,  0.54175522, -0.65051701,  0.10689832,\n",
       "       -0.60305005, -0.28991789, -0.04518417, -0.17250464, -0.55799793,\n",
       "       -0.03286776])"
      ]
     },
     "execution_count": 71,
     "metadata": {},
     "output_type": "execute_result"
    }
   ],
   "source": [
    "beta_hat"
   ]
  },
  {
   "cell_type": "code",
   "execution_count": 36,
   "id": "b6a7a144-11a0-4ad7-b9db-3a7f024e9b59",
   "metadata": {},
   "outputs": [],
   "source": []
  }
 ],
 "metadata": {
  "kernelspec": {
   "display_name": "Python 3 (ipykernel)",
   "language": "python",
   "name": "python3"
  },
  "language_info": {
   "codemirror_mode": {
    "name": "ipython",
    "version": 3
   },
   "file_extension": ".py",
   "mimetype": "text/x-python",
   "name": "python",
   "nbconvert_exporter": "python",
   "pygments_lexer": "ipython3",
   "version": "3.9.7"
  }
 },
 "nbformat": 4,
 "nbformat_minor": 5
}
